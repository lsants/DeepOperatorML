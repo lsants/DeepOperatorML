{
 "cells": [
  {
   "cell_type": "markdown",
   "metadata": {},
   "source": [
    "## Integral by Interpolation ##"
   ]
  },
  {
   "cell_type": "markdown",
   "metadata": {},
   "source": [
    "We want to use a NN to calculate the integral $I$ of a polynomial function in the form of: \n",
    "\n",
    "$$I = \\int_{0}^{B} (αx^2 + βx + γ)\\, dx \\, \\Longrightarrow$$ \n",
    "$$ = \\frac{α}{3}B^3 + \\frac{β}{2}B^2 + γB $$ "
   ]
  },
  {
   "cell_type": "code",
   "execution_count": 2,
   "metadata": {},
   "outputs": [],
   "source": [
    "# Modules \n",
    "import numpy as np\n",
    "import torch\n",
    "import torch.nn as nn\n",
    "import torch.optim as optim\n",
    "from sklearn.model_selection import train_test_split\n",
    "from matplotlib import pyplot as plt\n",
    "import matplotlib.ticker as mtick\n",
    "from tqdm import tqdm\n",
    "\n",
    "# Paths\n",
    "images_path = '/home/lsantiago/workspace/ic/Relatorio/Imagens'\n",
    "data_path = '/home/lsantiago/workspace/ic/data'\n",
    "models_path = '/home/lsantiago/workspace/ic/models'"
   ]
  },
  {
   "cell_type": "markdown",
   "metadata": {},
   "source": [
    "Define NN architecture"
   ]
  },
  {
   "cell_type": "code",
   "execution_count": 4,
   "metadata": {},
   "outputs": [
    {
     "name": "stdout",
     "output_type": "stream",
     "text": [
      "Using cpu device\n",
      "NeuralNetwork(\n",
      "  (flatten): Flatten(start_dim=1, end_dim=-1)\n",
      "  (linear_relu_stack): Sequential(\n",
      "    (0): Linear(in_features=4, out_features=32, bias=True)\n",
      "    (1): ReLU()\n",
      "    (2): Linear(in_features=32, out_features=8, bias=True)\n",
      "    (3): ReLU()\n",
      "    (4): Linear(in_features=8, out_features=1, bias=True)\n",
      "  )\n",
      ")\n"
     ]
    }
   ],
   "source": [
    "# Get cpu, gpu or mps device for training.\n",
    "device = (\n",
    "    \"cuda\"\n",
    "    if torch.cuda.is_available()\n",
    "    else \"mps\"\n",
    "    if torch.backends.mps.is_available()\n",
    "    else \"cpu\"\n",
    ")\n",
    "print(f\"Using {device} device\")\n",
    "\n",
    "class NeuralNetwork(nn.Module):\n",
    "    def __init__(self):\n",
    "        super().__init__()\n",
    "        self.flatten = nn.Flatten() \n",
    "        self.linear_relu_stack = nn.Sequential(\n",
    "            nn.Linear(4, 32),\n",
    "            nn.ReLU(),\n",
    "            nn.Linear(32, 8),\n",
    "            nn.ReLU(),\n",
    "            nn.Linear(8, 1),\n",
    "        ) \n",
    "        \n",
    "    def forward(self, x):\n",
    "        x = self.flatten(x)\n",
    "        logits = self.linear_relu_stack(x)\n",
    "        return logits\n",
    "    \n",
    "model = NeuralNetwork().to(device)\n",
    "print(model)\n"
   ]
  },
  {
   "cell_type": "markdown",
   "metadata": {},
   "source": [
    "Get dataset"
   ]
  },
  {
   "cell_type": "code",
   "execution_count": 30,
   "metadata": {},
   "outputs": [],
   "source": [
    "def generate_data(n_samples=500):\n",
    "    alpha_beta_gamma_B = np.random.rand(n_samples, 4)  # polynomial coefficients (α, β, γ, B), in the interval [0, 1]\n",
    "    integrals = np.zeros((n_samples, 1))\n",
    "    \n",
    "    for i in range(n_samples):\n",
    "        alpha, beta, gamma, B = alpha_beta_gamma_B[i]\n",
    "        integrals[i] = (alpha / 3) * B**3 + (beta / 2) * B**2 + gamma * B  # Polynomial's defined integral\n",
    "\n",
    "    return alpha_beta_gamma_B, integrals"
   ]
  },
  {
   "cell_type": "markdown",
   "metadata": {},
   "source": [
    "Defining model"
   ]
  },
  {
   "cell_type": "code",
   "execution_count": 31,
   "metadata": {},
   "outputs": [],
   "source": [
    "# Convert np to torch\n",
    "def numpy_to_torch(data):\n",
    "    return torch.tensor(data, dtype=torch.float32)\n",
    "\n",
    "# Creating model\n",
    "model = NeuralNetwork()\n",
    "\n",
    "# Loss function and optimizer\n",
    "criterion = nn.MSELoss()\n",
    "optimizer = optim.Adam(model.parameters(), lr=0.0001)"
   ]
  },
  {
   "cell_type": "markdown",
   "metadata": {},
   "source": [
    "Get and split dataset"
   ]
  },
  {
   "cell_type": "code",
   "execution_count": 32,
   "metadata": {},
   "outputs": [],
   "source": [
    "X, y = generate_data()\n",
    "\n",
    "X_train, X_val, y_train, y_val = train_test_split(X, y, test_size=0.2, random_state=42)\n",
    "\n",
    "X_train_tensor = numpy_to_torch(X_train)\n",
    "y_train_tensor = numpy_to_torch(y_train)\n",
    "\n",
    "X_val_tensor = numpy_to_torch(X_val)\n",
    "y_val_tensor = numpy_to_torch(X_val)"
   ]
  },
  {
   "cell_type": "markdown",
   "metadata": {},
   "source": [
    "Train the model"
   ]
  },
  {
   "cell_type": "code",
   "execution_count": 33,
   "metadata": {},
   "outputs": [
    {
     "name": "stderr",
     "output_type": "stream",
     "text": [
      "  0%|          | 0/100 [00:00<?, ?it/s]/home/lsantiago/.local/lib/python3.10/site-packages/torch/nn/modules/loss.py:536: UserWarning: Using a target size (torch.Size([100, 4])) that is different to the input size (torch.Size([100, 1])). This will likely lead to incorrect results due to broadcasting. Please ensure they have the same size.\n",
      "  return F.mse_loss(input, target, reduction=self.reduction)\n",
      "100%|██████████| 100/100 [00:01<00:00, 83.52it/s]\n"
     ]
    },
    {
     "data": {
      "image/png": "[encoded data removed]",
      "text/plain": [
       "<Figure size 640x480 with 1 Axes>"
      ]
     },
     "metadata": {},
     "output_type": "display_data"
    },
    {
     "name": "stdout",
     "output_type": "stream",
     "text": [
      "Saved PyTorch Model State to /home/lsantiago/workspace/ic/models\n"
     ]
    }
   ],
   "source": [
    "def train_model(model, X_train, y_train,X_val, y_val, epochs=50, batch_size=32):\n",
    "    train_loss_values = []\n",
    "    val_loss_values = []\n",
    "    for epoch in tqdm(range(epochs)):\n",
    "        running_train_loss = 0.0\n",
    "        for i in range(0, len(X_train), batch_size):\n",
    "            X_batch = X_train[i:i+batch_size]\n",
    "            y_batch = y_train[i:i+batch_size]\n",
    "\n",
    "            optimizer.zero_grad()\n",
    "            outputs = model(X_batch)\n",
    "            loss = criterion(outputs, y_batch)\n",
    "            loss.backward()\n",
    "            optimizer.step()\n",
    "\n",
    "            running_train_loss =+ loss.item() * X_batch.size(0)\n",
    "            model.eval()\n",
    "\n",
    "        train_loss_values.append(running_train_loss / len(X_train))\n",
    "\n",
    "        with torch.no_grad():\n",
    "            outputs_val = model(X_val)\n",
    "            val_loss = criterion(outputs_val, y_val)\n",
    "            val_loss_values.append(val_loss.item())\n",
    "\n",
    "    plt.plot(train_loss_values, label='Train')\n",
    "    plt.plot(val_loss_values, label='Validation', color='orange')\n",
    "    plt.xlabel('Epochs')\n",
    "    plt.title('Loss')\n",
    "    plt.legend()\n",
    "    plt.tight_layout()\n",
    "    plt.show()\n",
    "\n",
    "# train_model(model, X_train_tensor, y_train_tensor, X"
   ]
  },
  {
   "cell_type": "markdown",
   "metadata": {},
   "source": [
    "Test model"
   ]
  },
  {
   "cell_type": "code",
   "execution_count": 34,
   "metadata": {},
   "outputs": [
    {
     "name": "stdout",
     "output_type": "stream",
     "text": [
      "Loss: 0.008257744833827019\n"
     ]
    }
   ],
   "source": [
    "X_test_tensor = numpy_to_torch(X_val)\n",
    "y_test_tensor = numpy_to_torch(y_val)\n",
    "outputs = model(X_test_tensor)\n",
    "loss = criterion(outputs, y_test_tensor)\n",
    "print(f'Loss: {loss.item()}')"
   ]
  },
  {
   "cell_type": "markdown",
   "metadata": {},
   "source": [
    "### Validation example ($\\frac{1}{2}x^2 + \\frac{8}{10}x + \\frac{3}{10}$ from zero to $\\frac{1}{2}$)"
   ]
  },
  {
   "cell_type": "markdown",
   "metadata": {},
   "source": [
    "Analytic solution: \n",
    "\n",
    "$$ \\int_{0}^{\\frac{1}{2}} (\\frac{1}{2}x^2 + \\frac{8}{10}x + \\frac{3}{10})\\,dx \\ \\Longrightarrow $$\n",
    "$$ \\left[ \\frac{1}{6}x^3 + \\frac{2}{5}x^2 + \\frac{3}{10}x \\right]_0^\\frac{1}{2} \\Longrightarrow $$\n",
    "$$ = \\frac{1}{48} + \\frac{1}{10} + \\frac{3}{20} \\Longrightarrow $$\n",
    "$$ = 0.2708.. $$\n"
   ]
  },
  {
   "cell_type": "code",
   "execution_count": 35,
   "metadata": {},
   "outputs": [],
   "source": [
    "test_poly = [0.5, 0.8, 0.3, 0.5]"
   ]
  },
  {
   "cell_type": "code",
   "execution_count": 36,
   "metadata": {},
   "outputs": [
    {
     "data": {
      "image/png": "[encoded data removed]",
      "text/plain": [
       "<Figure size 300x200 with 1 Axes>"
      ]
     },
     "metadata": {},
     "output_type": "display_data"
    }
   ],
   "source": [
    "# Test\n",
    "\n",
    "alpha, beta, gamma, B = test_poly\n",
    "ans = (alpha / 3) * B**3 + (beta / 2) * B**2 + gamma * B \n",
    "\n",
    "curve = np.array([alpha, beta, gamma,])\n",
    "\n",
    "x = np.linspace(0,2, num=50) # B=2\n",
    "y = [np.polyval(curve, i) for i in x]\n",
    "\n",
    "x_size, y_size = 3, 2\n",
    "fig, axs = plt.subplots(figsize=(x_size, y_size))\n",
    "axs.plot(x,y)\n",
    "axs.set_title(f\"P$(x) = {alpha}x^2 + {beta}x + {gamma}$\", size=10)\n",
    "axs.text(x_size/3, y_size/2, s=f'$I={ans:.3f}$', size=9)\n",
    "\n",
    "fill = B\n",
    "arg, = np.argwhere(x<=fill)[-1] + 1\n",
    "\n",
    "plt.fill_between(x[:arg], y[:arg], color='lightsteelblue')\n",
    "# plt.grid()\n",
    "plt.tight_layout()"
   ]
  },
  {
   "cell_type": "markdown",
   "metadata": {},
   "source": [
    "Prediction:"
   ]
  },
  {
   "cell_type": "code",
   "execution_count": 37,
   "metadata": {},
   "outputs": [
    {
     "name": "stdout",
     "output_type": "stream",
     "text": [
      "Prediction: 0.363\n",
      "Answer:     0.271\n",
      "Error:      33.859%\n"
     ]
    }
   ],
   "source": [
    "new_coefficients = numpy_to_torch(np.array([[alpha, beta, gamma, B]])) \n",
    "predicted_integral = model(new_coefficients)\n",
    "print(f'''Prediction: {predicted_integral.item():.3f}\n",
    "Answer:     {ans:.3f}\n",
    "Error:      {abs(predicted_integral.item() - ans)/ans:.3%}''')"
   ]
  }
 ],
 "metadata": {
  "kernelspec": {
   "display_name": "Python 3",
   "language": "python",
   "name": "python3"
  },
  "language_info": {
   "codemirror_mode": {
    "name": "ipython",
    "version": 3
   },
   "file_extension": ".py",
   "mimetype": "text/x-python",
   "name": "python",
   "nbconvert_exporter": "python",
   "pygments_lexer": "ipython3",
   "version": "3.10.12"
  }
 },
 "nbformat": 4,
 "nbformat_minor": 2
}
